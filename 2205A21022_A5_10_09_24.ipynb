{
  "nbformat": 4,
  "nbformat_minor": 0,
  "metadata": {
    "colab": {
      "provenance": [],
      "authorship_tag": "ABX9TyNX2Rwg58GLSUSvfU9XpTOx",
      "include_colab_link": true
    },
    "kernelspec": {
      "name": "python3",
      "display_name": "Python 3"
    },
    "language_info": {
      "name": "python"
    }
  },
  "cells": [
    {
      "cell_type": "markdown",
      "metadata": {
        "id": "view-in-github",
        "colab_type": "text"
      },
      "source": [
        "<a href=\"https://colab.research.google.com/github/2205A21022/python/blob/main/2205A21022_A5_10_09_24.ipynb\" target=\"_parent\"><img src=\"https://colab.research.google.com/assets/colab-badge.svg\" alt=\"Open In Colab\"/></a>"
      ]
    },
    {
      "cell_type": "code",
      "execution_count": 1,
      "metadata": {
        "colab": {
          "base_uri": "https://localhost:8080/"
        },
        "id": "hyu5OSc1qA6S",
        "outputId": "f8f3439e-3233-42a8-f5c3-15e218d91dcb"
      },
      "outputs": [
        {
          "output_type": "stream",
          "name": "stdout",
          "text": [
            "Enter previous units :25\n",
            "Enter current units :500\n",
            "Enter the value of TC:2\n",
            "=======================================\n",
            "TGNPDCL\n",
            "2024-09-10 11:23:40\n",
            "=======================================\n",
            "energy charges: 6175.0\n",
            "fixed charges: 70\n",
            "customer charges: 160\n",
            "Electricity duty: 28.5\n",
            "total bill: 6433.5\n"
          ]
        }
      ],
      "source": [
        "import tgnpdcl_billl\n",
        "import datetime\n",
        "now=datetime.datetime.now()\n",
        "formatted_now=now.strftime(\"%Y-%m-%d %H:%M:%S\")\n",
        "\n",
        "pu=float(input(\"Enter previous units :\"))\n",
        "cu=float(input(\"Enter current units :\"))\n",
        "TC=int(input(\"Enter the value of TC:\"))\n",
        "if(TC==0):\n",
        "  [ec,fc,cc,ed,bill_amount]=tgnpdcl_billl.res(pu,cu)\n",
        "else:\n",
        "  if(TC==1):\n",
        "    [ec,fc,cc,ed,bill_amount]=tgnpdcl_billl.com(pu,cu)\n",
        "  else:\n",
        "    if(TC==2):\n",
        "      [ec,fc,cc,ed,bill_amount]=tgnpdcl_billl.adv(pu,cu)\n",
        "print(\"=======================================\")\n",
        "print(\"TGNPDCL\")\n",
        "print(formatted_now)\n",
        "print(\"=======================================\")\n",
        "print(\"energy charges:\",ec)\n",
        "print(\"fixed charges:\",fc)\n",
        "print(\"customer charges:\",cc)\n",
        "print(\"Electricity duty:\",ed)\n",
        "print(\"total bill:\",bill_amount)"
      ]
    }
  ]
}